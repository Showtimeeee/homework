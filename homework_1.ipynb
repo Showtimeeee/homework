{
 "cells": [
  {
   "cell_type": "markdown",
   "id": "ec32c474",
   "metadata": {},
   "source": [
    "Сделайте так, чтобы число секунд отображалось в виде дни:часы:минуты:секунды"
   ]
  },
  {
   "cell_type": "code",
   "execution_count": 1,
   "id": "8ed6080a",
   "metadata": {},
   "outputs": [
    {
     "name": "stdout",
     "output_type": "stream",
     "text": [
      "1 дней 12 часов 56 минут 40 секунд\n"
     ]
    }
   ],
   "source": [
    "# В минуте 60 секунд\n",
    "# В часе 3600 секунд\n",
    "# В сутках 86400 секунд\n",
    "\n",
    "def timemachine(x):\n",
    "    d = int(x/86400)\n",
    "    x-= (d*86400)\n",
    "    h = int(x/3600)\n",
    "    x-= (h*3600)\n",
    "    m = int(x/60)\n",
    "    x-= (m*60)\n",
    "    s = x\n",
    "    print(d, 'дней', h, 'часов', m, 'минут', s, 'секунд')\n",
    "\n",
    "timemachine(133000)"
   ]
  },
  {
   "cell_type": "markdown",
   "id": "c8ddf4bd",
   "metadata": {},
   "source": [
    "Напишите фунцию, которая принимает текст и выводит два слова: наиболее часто встречающееся и самое длинное.\n",
    "\n",
    "Для того, чтобы выполнить данную задачу мы должны выполнить несколько действий:\n",
    "\n",
    "- Перевести все заглавные буквы в строчные, поскольку 'н' и 'Н' Python воспринимает как разные символы\n",
    "- Избавиться от знаков препинания\n",
    "- Разбить текст на отдельные слова\n",
    "- Найти наиболее часто встречающееся слово или слова\n",
    "- Найти самое длинное слово\n"
   ]
  },
  {
   "cell_type": "code",
   "execution_count": 2,
   "id": "d123aa2d",
   "metadata": {},
   "outputs": [
    {
     "name": "stdout",
     "output_type": "stream",
     "text": [
      "самое частое слово ---  не \n",
      "самое длинное --- охваченный\n"
     ]
    }
   ],
   "source": [
    "import collections\n",
    "\n",
    "z = 'Не жалею, не зову, не плачу, \\\n",
    "Все пройдет, как с белых яблонь дым. \\\n",
    "Увяданья золотом Охваченный, \\\n",
    "Я не буду больше молодым. \\\n",
    "Ты теперь не так уж будешь биться, \\\n",
    "Сердце, тронутое холодком, \\\n",
    "И страна березового ситца \\\n",
    "Не заманит шляться босиком'\n",
    "\n",
    "def text_stat(z):\n",
    "\n",
    "    # e = список знаков препинания\n",
    "    e = \",\", \".\", \"!\"\n",
    "    # цикл убирает знаки припенания\n",
    "    for i in range(len(e)):\n",
    "        z = z.lower() # приведение в нижний регистр\n",
    "        z = z.replace(e[i], \"\") # заменяем знаки которые получили в цикле в i на ничего\n",
    "    words = z.split()               # разделяем на строки на части\n",
    "    counter = collections.Counter(words) # считает слова\n",
    "    most_common, occurrences = counter.most_common()[0] # находит частое слово\n",
    "    longest = max(words, key=len)\n",
    "    print('самое частое слово --- ', most_common, '\\nсамое длинное ---', longest)\n",
    "\n",
    "\n",
    "text_stat(z)"
   ]
  },
  {
   "cell_type": "code",
   "execution_count": 2,
   "id": "a6c84bac",
   "metadata": {},
   "outputs": [],
   "source": []
  },
  {
   "cell_type": "code",
   "execution_count": null,
   "id": "4fb7c6d4",
   "metadata": {},
   "outputs": [],
   "source": []
  },
  {
   "cell_type": "markdown",
   "id": "f1a029c7",
   "metadata": {},
   "source": [
    "Напишите функцию для слияния двух словарей в один:"
   ]
  },
  {
   "cell_type": "code",
   "execution_count": 3,
   "id": "22230343",
   "metadata": {},
   "outputs": [
    {
     "name": "stdout",
     "output_type": "stream",
     "text": [
      "{'a': 1, 'b': 2, 'c': 3, 'd': 4, 'e': 5, 'f': 6, 'g': 7, 'h': 8}\n"
     ]
    }
   ],
   "source": [
    "d1 = {'a':1, 'b':2, 'c': 3, 'd':4}\n",
    "d2 = {'e':5 ,'f':6, 'g': 7, 'h':8}\n",
    "\n",
    "def m():\n",
    "    merge = {**d1, **d2}\n",
    "    print(merge)\n",
    "m()\n"
   ]
  },
  {
   "cell_type": "markdown",
   "id": "06db9188",
   "metadata": {},
   "source": [
    "Напишите функцию для вывода треугольника паскаля. Аргументом функции будет количество строк в данном треугольнике.\n",
    "\n",
    "\n",
    "Пример вывода при s, равном = 10.\n",
    "\n",
    "- [1]\n",
    "- [1, 1]\n",
    "- [1, 2, 1]\n",
    "- [1, 3, 3, 1]\n",
    "- [1, 4, 6, 4, 1]\n",
    "- [1, 5, 10, 10, 5, 1]\n",
    "- [1, 6, 15, 20, 15, 6, 1]\n",
    "- [1, 7, 21, 35, 35, 21, 7, 1]\n",
    "- [1, 8, 28, 56, 70, 56, 28, 8, 1]\n",
    "- [1, 9, 36, 84, 126, 126, 84, 36, 9, 1]"
   ]
  },
  {
   "cell_type": "code",
   "execution_count": null,
   "id": "f6bbb84d",
   "metadata": {},
   "outputs": [],
   "source": [
    "def p_triangle(s):\n",
    "    \n",
    "    \n",
    "    \n",
    "    "
   ]
  }
 ],
 "metadata": {
  "kernelspec": {
   "display_name": "Python 3",
   "language": "python",
   "name": "python3"
  },
  "language_info": {
   "codemirror_mode": {
    "name": "ipython",
    "version": 3
   },
   "file_extension": ".py",
   "mimetype": "text/x-python",
   "name": "python",
   "nbconvert_exporter": "python",
   "pygments_lexer": "ipython3",
   "version": "3.8.8"
  }
 },
 "nbformat": 4,
 "nbformat_minor": 5
}
